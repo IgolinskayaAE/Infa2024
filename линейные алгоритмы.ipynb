{
 "cells": [
  {
   "cell_type": "markdown",
   "id": "e67efc76",
   "metadata": {},
   "source": [
    "Лев Илья хочет помочь всем своим друзьям сдать экзамены. Чтобы сдать экзамен по информационным технологиям, им необходимо решить следующую задачу.\n",
    "\n",
    "У вас есть строка s  =  s 1 s 2 ... s n ( n — длина строки), состоящая только из символов « . » и « # » и m запросов. Каждый запрос описывается парой целых чисел l i ,  r i (1 ≤  l i  <  r i  ≤  n ) . Ответом на запрос l i ,  r i является количество таких целых чисел i ( l i  ≤  i  <  r i ) , что s i  =  s i  + 1 .\n",
    "\n",
    "Лев Илья хочет помочь своим друзьям, но есть ли кто-нибудь, кто сможет ему помочь? Помогите Илье, решить проблему.\n",
    "\n",
    "Вход\n",
    "В первой строке содержится строка s длины n (2 ≤  n  ≤ 10 5 ) . Гарантируется, что данная строка состоит только из символов \" . \" и \" # \".\n",
    "\n",
    "В следующей строке записано целое число m (1 ≤  m  ≤ 10 5 ) — количество запросов. Каждая из следующих m строк содержит описание соответствующего запроса. В i -й строке записаны целые числа l i ,  r i (1 ≤  l i  <  r i  ≤  n ) .\n",
    "\n",
    "Выход\n",
    "Выведите m целых чисел — ответы на запросы в том порядке, в котором они заданы во входных данных."
   ]
  },
  {
   "cell_type": "code",
   "execution_count": 5,
   "id": "016708ef",
   "metadata": {
    "scrolled": true
   },
   "outputs": [
    {
     "name": "stdout",
     "output_type": "stream",
     "text": [
      "......\n",
      "4\n",
      "3 4\n",
      "2 3\n",
      "1 6\n",
      "2 6\n",
      "1\n",
      "1\n",
      "5\n",
      "4\n"
     ]
    }
   ],
   "source": [
    "s = input()  \n",
    "n = len(s)   \n",
    "m = int(input()) \n",
    "\n",
    "count = [0] \n",
    "for i in range(1, n):\n",
    "    count.append(count[i-1] + (s[i] == s[i-1]))\n",
    "\n",
    "results = []\n",
    "for j in range(m):\n",
    "    li, ri = map(int, input().split())\n",
    "    results.append(count[ri-1] - count[li-1])\n",
    "\n",
    "for result in results:\n",
    "    print(result)\n"
   ]
  },
  {
   "cell_type": "markdown",
   "id": "3a7758ef",
   "metadata": {},
   "source": [
    "У Картика Джоши (KJ) очень красивая девушка Приянка Шарма (PS) . (хе-хе :П )\n",
    "\n",
    "Она очень навязчива, звонит Кей-Джею и просит его прийти сегодня вечером к ней домой, чтобы ( скорее всего ) встретиться.\n",
    "\n",
    "KJ и PS живут на оси X. Дом KJ расположен в точке 0 , а дом PS — в точке p (положительное целое число). Есть только одна дорога, по которой могут путешествовать люди, то есть ось X. По оси X расположены n уличных фонарей. i -й уличный фонарь расположен в точке xi и имеет характеристику ri , позволяющую распространять свет в диапазоне [xi - ri, xi + ri] . Уличные фонари излучают лучи, которые по своей природе саморазрушительны, а это означает, что если существует некоторая целая координата дороги, получающей свет от более чем одного уличного фонаря, то свет на этой координате исчезает, т.е. эта координата остается темный.\n",
    "\n",
    "Мы все знаем, что Кей Джей еще ребенок и боится темноты. Поэтому он желает заранее знать максимальное непрерывное число целочисленных координат, которые ему придется пройти в темноте , направляясь от своего дома к дому PS. Помогите ему найти ответ!\n",
    "\n",
    "Примечание. В одних и тех же целочисленных координатах может быть более одного уличного фонаря. Также обратите внимание, что KJ всегда движется в направлении дома PS.\n",
    "\n",
    "Вам не нужно заботиться о точках, координаты которых находятся за пределами диапазона [0, p] .\n",
    "\n",
    "Формат ввода\n",
    "\n",
    "Первая строка содержит два целых числа, разделенных пробелами, n и p , количество уличных фонарей и положение дома PS на оси x.\n",
    "\n",
    "Следующие n строк содержат два целых числа, разделенных пробелами, xi и ri , положение i -го уличного фонаря и характеристику i -го уличного фонаря.\n",
    "\n",
    "Ограничения\n",
    "\n",
    "1 <= р <= 2 00 000\n",
    "\n",
    "0 <= n <= 2 00 000\n",
    "\n",
    "0 <= xi <= p\n",
    "\n",
    "0 <= ri <= 2,00,000\n",
    "\n",
    "Выходной формат\n",
    "\n",
    "Выведите одно целое число — максимальное количество непрерывных целочисленных координат, которое KJ должен пройти в темноте, направляясь от своего дома на 0 к дому PS на p .\n",
    "\n"
   ]
  },
  {
   "cell_type": "code",
   "execution_count": 22,
   "id": "526179ea",
   "metadata": {},
   "outputs": [
    {
     "name": "stdout",
     "output_type": "stream",
     "text": [
      "2 7\n",
      "2 0\n",
      "6 2\n",
      "2\n"
     ]
    }
   ],
   "source": [
    "n, p = map(int, input().split())\n",
    "lights = []\n",
    "\n",
    "max_gap = 0\n",
    "light_positions = {}\n",
    "\n",
    "for j in range(n):\n",
    "    x, r = map(int, input().split())\n",
    "    lights.append((x, r))\n",
    "    start = max(0, x - r)\n",
    "    end = min(p, x + r)\n",
    "    \n",
    "    for i in range(start, end + 1):\n",
    "        if i not in light_positions:\n",
    "            light_positions[i] = 0\n",
    "        light_positions[i] += 1\n",
    "\n",
    "darkness = 0\n",
    "max_darkness = 0\n",
    "\n",
    "for pos in range(p + 1):  \n",
    "    if pos in light_positions:\n",
    "        darkness = 0  \n",
    "    else:\n",
    "        darkness += 1  \n",
    "    \n",
    "    max_darkness = max(max_darkness, darkness)\n",
    "\n",
    "print(max_darkness)\n",
    "\n"
   ]
  },
  {
   "cell_type": "markdown",
   "id": "b0a43985",
   "metadata": {},
   "source": [
    "Вам дана строка s , состоящая только из символов 0 и 1 . Подстрока [ l ,  r ] строки s — это строка s l s l  + 1 s l  + 2 ... s r , а ее длина равна r  -  l  + 1 . Подстрока называется сбалансированной , если количество нулей ( 0 ) равно количеству единиц в этой подстроке.\n",
    "\n",
    "Вам необходимо определить длину самой длинной сбалансированной подстроки s .\n",
    "\n",
    "Вход\n",
    "В первой строке содержится n ( 1 ≤  n  ≤ 100000 ) — количество символов в s .\n",
    "\n",
    "Во второй строке записана строка s , состоящая ровно из n символов. В s могут присутствовать только символы 0 и 1 .\n",
    "\n",
    "Выход\n",
    "Если в s нет непустой сбалансированной подстроки , выведите 0 . В противном случае выведите длину самой длинной сбалансированной подстроки."
   ]
  },
  {
   "cell_type": "code",
   "execution_count": 30,
   "id": "adaf3b37",
   "metadata": {},
   "outputs": [
    {
     "name": "stdout",
     "output_type": "stream",
     "text": [
      "8\n",
      "11010111\n",
      "4\n"
     ]
    }
   ],
   "source": [
    "def longest_substring(n, s):\n",
    "    max_length = 0\n",
    "    balance = 0\n",
    "    balance_positions = {0: -1}\n",
    "    \n",
    "    for i in range(n):\n",
    "        if s[i] == '0':\n",
    "            balance -= 1\n",
    "        else:\n",
    "            balance += 1\n",
    "        \n",
    "        if balance in balance_positions:\n",
    "            length = i - balance_positions[balance]\n",
    "            max_length = max(max_length, length)\n",
    "        else:\n",
    "            balance_positions[balance] = i\n",
    "    \n",
    "    return max_length\n",
    "\n",
    "n = int(input())\n",
    "s = input()\n",
    "print(longest_substring(n, s))\n"
   ]
  },
  {
   "cell_type": "markdown",
   "id": "560630ea",
   "metadata": {},
   "source": [
    "Given an array of n\n",
    " positive\n",
    " integers, your task is to count the number of subarrays having sum x\n",
    ".\n",
    "\n",
    "Input\n",
    "The first input line has two integers n\n",
    " and x\n",
    ": the size of the array and the target sum x\n",
    ".\n",
    "\n",
    "The second line has n\n",
    " integers a1,a2,…,an\n",
    ": the contents of the array.\n",
    "\n",
    "Constraints:\n",
    "\n",
    "1≤n≤2⋅105\n",
    "1≤x,ai≤109\n",
    "Output\n",
    "Print one integer: the required number of subarrays."
   ]
  },
  {
   "cell_type": "code",
   "execution_count": 33,
   "id": "3e693680",
   "metadata": {},
   "outputs": [
    {
     "name": "stdout",
     "output_type": "stream",
     "text": [
      "57\n"
     ]
    },
    {
     "ename": "ValueError",
     "evalue": "not enough values to unpack (expected 2, got 1)",
     "output_type": "error",
     "traceback": [
      "\u001b[1;31m---------------------------------------------------------------------------\u001b[0m",
      "\u001b[1;31mValueError\u001b[0m                                Traceback (most recent call last)",
      "\u001b[1;32m~\\AppData\\Local\\Temp\\ipykernel_708\\313498538.py\u001b[0m in \u001b[0;36m<module>\u001b[1;34m\u001b[0m\n\u001b[0;32m     15\u001b[0m     \u001b[1;32mreturn\u001b[0m \u001b[0mcount\u001b[0m\u001b[1;33m\u001b[0m\u001b[1;33m\u001b[0m\u001b[0m\n\u001b[0;32m     16\u001b[0m \u001b[1;33m\u001b[0m\u001b[0m\n\u001b[1;32m---> 17\u001b[1;33m \u001b[0mn\u001b[0m\u001b[1;33m,\u001b[0m \u001b[0mx\u001b[0m \u001b[1;33m=\u001b[0m \u001b[0mmap\u001b[0m\u001b[1;33m(\u001b[0m\u001b[0mint\u001b[0m\u001b[1;33m,\u001b[0m \u001b[0minput\u001b[0m\u001b[1;33m(\u001b[0m\u001b[1;33m)\u001b[0m\u001b[1;33m.\u001b[0m\u001b[0msplit\u001b[0m\u001b[1;33m(\u001b[0m\u001b[1;33m)\u001b[0m\u001b[1;33m)\u001b[0m\u001b[1;33m\u001b[0m\u001b[1;33m\u001b[0m\u001b[0m\n\u001b[0m\u001b[0;32m     18\u001b[0m \u001b[0marr\u001b[0m \u001b[1;33m=\u001b[0m \u001b[0mlist\u001b[0m\u001b[1;33m(\u001b[0m\u001b[0mmap\u001b[0m\u001b[1;33m(\u001b[0m\u001b[0mint\u001b[0m\u001b[1;33m,\u001b[0m \u001b[0minput\u001b[0m\u001b[1;33m(\u001b[0m\u001b[1;33m)\u001b[0m\u001b[1;33m.\u001b[0m\u001b[0msplit\u001b[0m\u001b[1;33m(\u001b[0m\u001b[1;33m)\u001b[0m\u001b[1;33m)\u001b[0m\u001b[1;33m)\u001b[0m\u001b[1;33m\u001b[0m\u001b[1;33m\u001b[0m\u001b[0m\n\u001b[0;32m     19\u001b[0m \u001b[1;33m\u001b[0m\u001b[0m\n",
      "\u001b[1;31mValueError\u001b[0m: not enough values to unpack (expected 2, got 1)"
     ]
    }
   ],
   "source": [
    "мяу"
   ]
  },
  {
   "cell_type": "markdown",
   "id": "43ee40e6",
   "metadata": {},
   "source": [
    "You are a coach at your local university. There are n\n",
    " students under your supervision, the programming skill of the i\n",
    "-th student is ai\n",
    ".\n",
    "\n",
    "You have to create a team for a new programming competition. As you know, the more students some team has the more probable its victory is! So you have to create a team with the maximum number of students. But you also know that a team should be balanced. It means that the programming skill of each pair of students in a created team should differ by no more than 5\n",
    ".\n",
    "\n",
    "Your task is to report the maximum possible number of students in a balanced team.\n",
    "\n",
    "Input\n",
    "The first line of the input contains one integer n\n",
    " (1≤n≤2⋅105\n",
    ") — the number of students.\n",
    "\n",
    "The second line of the input contains n\n",
    " integers a1,a2,…,an\n",
    " (1≤ai≤109\n",
    "), where ai\n",
    " is a programming skill of the i\n",
    "-th student.\n",
    "\n",
    "Output\n",
    "Print one integer — the maximum possible number of students in a balanced team."
   ]
  },
  {
   "cell_type": "code",
   "execution_count": 38,
   "id": "de5924c4",
   "metadata": {},
   "outputs": [
    {
     "name": "stdout",
     "output_type": "stream",
     "text": [
      "6\n",
      "1 10 17 12 15 2\n",
      "3\n"
     ]
    }
   ],
   "source": [
    "n = int(input())\n",
    "skills = list(map(int, input().split()))\n",
    "\n",
    "skills.sort()\n",
    "ts = 1\n",
    "max_ts = 1\n",
    "j = 0\n",
    "for i in range(1, n):\n",
    "    while skills[i] - skills[j] > 5:\n",
    "        j += 1\n",
    "    ts = i - j + 1\n",
    "    max_ts = max(max_ts, ts)\n",
    "\n",
    "print(max_ts)\n"
   ]
  },
  {
   "cell_type": "markdown",
   "id": "c6e672b3",
   "metadata": {},
   "source": [
    "Вам дан массив a из n элементов. Каждый элемент a равен 0 или 1 .\n",
    "\n",
    "Обозначим длину самого длинного подотрезка последовательных элементов в a , состоящего только из единиц, как f ( a ) . Вы можете заменить не более k нулей на единицы, чтобы максимизировать f ( a ) .\n",
    "\n",
    "Вход\n",
    "В первой строке записаны два целых числа n и k ( 1 ≤  n  ≤ 3·10 5 , 0 ≤  k  ≤  n ) — количество элементов в a и параметр k .\n",
    "\n",
    "Во второй строке записаны n целых чисел a i ( 0 ≤  a i  ≤ 1 ) — элементы a .\n",
    "\n",
    "Выход\n",
    "В первой строке выведите неотрицательное целое число z — максимальное значение f ( a ) после не более чем k замен нулей на единицы.\n",
    "\n",
    "Во второй строке выведите n целых чисел a j — элементы массива a после изменений.\n",
    "\n",
    "Если ответов несколько, вы можете вывести любой из них."
   ]
  },
  {
   "cell_type": "code",
   "execution_count": 41,
   "id": "be3eb289",
   "metadata": {},
   "outputs": [
    {
     "name": "stdout",
     "output_type": "stream",
     "text": [
      "7 1\n",
      "1 0 0 1 1 0 1\n",
      "4\n",
      "1 0 0 1 1 1 1\n"
     ]
    }
   ],
   "source": [
    "n, k = map(int, input().split())\n",
    "arr = list(map(int, input().split()))\n",
    "\n",
    "l, r = 0, 0\n",
    "d = 0\n",
    "max_ones = 0\n",
    "zero_count = 0\n",
    "\n",
    "while r < n:\n",
    "    if arr[r] == 0:\n",
    "        zero_count += 1\n",
    "    \n",
    "    while zero_count > k:\n",
    "        if arr[l] == 0:\n",
    "            zero_count -= 1\n",
    "        l += 1\n",
    "    \n",
    "    if r - l + 1 > max_ones:\n",
    "        max_ones = r - l + 1\n",
    "        d = l\n",
    "    \n",
    "    r += 1\n",
    "\n",
    "for i in range(d, d + max_ones):\n",
    "    arr[i] = 1\n",
    "\n",
    "print(max_ones)\n",
    "print(*arr)\n"
   ]
  },
  {
   "cell_type": "code",
   "execution_count": 43,
   "id": "84da7b08",
   "metadata": {},
   "outputs": [
    {
     "name": "stdout",
     "output_type": "stream",
     "text": [
      "7 1\n",
      "1 0 0 1 1 0 1\n",
      "4\n",
      "1 0 0 1 1 1 1\n"
     ]
    }
   ],
   "source": [
    "n, k = map(int, input().split())\n",
    "arr = list(map(int, input().split()))\n",
    "\n",
    "l, r = 0, 0\n",
    "d = 0\n",
    "max_ones = 0\n",
    "zero_count = 0\n",
    "\n",
    "for r in range(n):\n",
    "    if arr[r] == 0:\n",
    "        zero_count += 1\n",
    "    \n",
    "    while zero_count > k:\n",
    "        if arr[l] == 0:\n",
    "            zero_count -= 1\n",
    "        l += 1\n",
    "\n",
    "    if r - l + 1 > max_ones:\n",
    "        max_ones = r - l + 1\n",
    "        d = l\n",
    "\n",
    "for i in range(n):\n",
    "    if d <= i < d + max_ones:\n",
    "        arr[i] = 1\n",
    "\n",
    "print(max_ones)\n",
    "print(*arr)\n"
   ]
  },
  {
   "cell_type": "markdown",
   "id": "21d57580",
   "metadata": {},
   "source": [
    "There are N hotels along the beautiful Adriatic coast. Each hotel has its value in Euros.\n",
    "\n",
    "Sroljo has won M Euros on the lottery. Now he wants to buy a sequence of consecutive hotels, such that the sum of the values of these consecutive hotels is as great as possible - but not greater than M.\n",
    "\n",
    "You are to calculate this greatest possible total value.\n",
    "\n",
    "Input\n",
    "In the first line of the input there are integers N and M (1 ≤ N ≤ 300 000, 1 ≤ M < 231).\n",
    "\n",
    "In the next line there are N natural numbers less than 106, representing the hotel values in the order they lie along the coast.\n",
    "\n",
    "Output\n",
    "Print the required number (it will be greater than 0 in all of the test data)."
   ]
  },
  {
   "cell_type": "code",
   "execution_count": 45,
   "id": "085a245f",
   "metadata": {},
   "outputs": [
    {
     "name": "stdout",
     "output_type": "stream",
     "text": [
      "5 12\n",
      "2 1 3 4 5\n",
      "12\n"
     ]
    }
   ],
   "source": [
    "N, M = map(int, input().split())\n",
    "hotel = list(map(int, input().split()))\n",
    "\n",
    "l, r = 0, 0\n",
    "max_sum = 0\n",
    "current_sum = 0\n",
    "\n",
    "while r < N:\n",
    "    current_sum += hotel[r]\n",
    "\n",
    "    while current_sum > M:\n",
    "        current_sum -= hotel[l]\n",
    "        l += 1\n",
    "\n",
    "    max_sum = max(max_sum, current_sum)\n",
    "    r += 1\n",
    "\n",
    "print(max_sum)\n"
   ]
  },
  {
   "cell_type": "markdown",
   "id": "ad6efee2",
   "metadata": {},
   "source": [
    "Кефа хочет отпраздновать свою первую большую зарплату походом в ресторан. Однако ему нужна компания.\n",
    "\n",
    "У Кефы n друзей, каждый из них согласится пойти в ресторан, если Кефа попросит. Каждый друг характеризуется количеством денег, которые у него есть, и фактором дружбы по отношению к Кефе. Попугай не хочет, чтобы кто-то из друзей чувствовал себя беднее по сравнению с кем-то еще в компании (Кефа не в счет). Друг чувствует себя бедным, если в компании есть кто-то, у кого хотя бы на d единиц денег больше, чем у него. Также Кефа хочет, чтобы общий коэффициент дружбы членов компании был максимальным. Помогите ему пригласить оптимальную компанию!\n",
    "\n",
    "Вход\n",
    "В первой строке входных данных содержатся два целых числа, разделенных пробелами, n и d ( 1 ≤  n  ≤ 10 5 , ) — количество друзей Кефы и минимальная разница между количеством денег, чтобы чувствовать себя бедным соответственно.\n",
    "\n",
    "Следующие n строк содержат описания друзей Кефы, ( i  + 1) -я строка содержит описание i -го друга типа m i , s i ( 0 ≤  m i ,  s i  ≤ 10 9 ) — сумма денег и фактора дружбы соответственно.\n",
    "\n",
    "Выход\n",
    "Выведите максимальный общий коэффициент дружбы, которого можно достичь."
   ]
  },
  {
   "cell_type": "code",
   "execution_count": 52,
   "id": "a11b2e0f",
   "metadata": {},
   "outputs": [
    {
     "name": "stdout",
     "output_type": "stream",
     "text": [
      "4 5\n",
      "75 5\n",
      "0 100\n",
      "150 20\n",
      "75 1\n",
      "101\n"
     ]
    }
   ],
   "source": [
    "мяу\n"
   ]
  },
  {
   "cell_type": "markdown",
   "id": "c6a81c85",
   "metadata": {},
   "source": [
    "Дан массив a с n целыми числами. Назовем последовательность одного или нескольких последовательных элементов в сегменте . Также назовем сегмент k – хорошим , если он содержит не более k различных значений.\n",
    "\n",
    "Найдите любой самый длинный k -хороший отрезок.\n",
    "\n",
    "Поскольку ввод/вывод может достигать огромных размеров, рекомендуется использовать быстрые методы ввода/вывода: например, предпочитайте использовать scanf/printf вместо cin/cout в C++, предпочитайте использовать BufferedReader/PrintWriter вместо Scanner/System.out. на Яве .\n",
    "\n",
    "Вход\n",
    "В первой строке записаны два целых числа n ,  k ( 1 ≤  k  ≤  n  ≤ 5·10 5 ) — количество элементов в a и параметр k .\n",
    "\n",
    "Во второй строке записаны n целых чисел a i ( 0 ≤  a i  ≤ 10 6 ) — элементы массива a .\n",
    "\n",
    "Выход\n",
    "Выведите два целых числа l ,  r ( 1 ≤  l  ≤  r  ≤  n ) — индекс левого и индекс правого концов некоторого k -хорошего самого длинного отрезка. Если существует несколько самых длинных отрезков, вы можете распечатать любой из них. Элементы в a пронумерованы от 1 до n слева направо.\n",
    "\n"
   ]
  },
  {
   "cell_type": "code",
   "execution_count": 57,
   "id": "6ca4352b",
   "metadata": {},
   "outputs": [
    {
     "name": "stdout",
     "output_type": "stream",
     "text": [
      "3 1\n",
      "1 2 3\n",
      "1 1\n"
     ]
    }
   ],
   "source": [
    "n, k = map(int, input().split())\n",
    "arr = list(map(int, input().split()))\n",
    "\n",
    "left, right = 0, 0\n",
    "count = [0] * (max(a) + 1)\n",
    "wow = 0\n",
    "lena = 0\n",
    "l, r = 1, 1\n",
    "\n",
    "while right < n:\n",
    "    if count[arr[right]] == 0:\n",
    "        wow += 1\n",
    "    count[arr[right]] += 1\n",
    "\n",
    "    while wow > k:\n",
    "        count[arr[left]] -= 1\n",
    "        if count[arr[left]] == 0:\n",
    "            wow -= 1\n",
    "        left += 1\n",
    "\n",
    "    if right - left + 1 > lena:\n",
    "        lena = right - left + 1\n",
    "        l, r = left + 1, right + 1\n",
    "\n",
    "    right += 1\n",
    "\n",
    "print(l, r)\n"
   ]
  },
  {
   "cell_type": "code",
   "execution_count": null,
   "id": "c0d14103",
   "metadata": {},
   "outputs": [],
   "source": []
  }
 ],
 "metadata": {
  "kernelspec": {
   "display_name": "Python 3 (ipykernel)",
   "language": "python",
   "name": "python3"
  },
  "language_info": {
   "codemirror_mode": {
    "name": "ipython",
    "version": 3
   },
   "file_extension": ".py",
   "mimetype": "text/x-python",
   "name": "python",
   "nbconvert_exporter": "python",
   "pygments_lexer": "ipython3",
   "version": "3.9.13"
  }
 },
 "nbformat": 4,
 "nbformat_minor": 5
}
