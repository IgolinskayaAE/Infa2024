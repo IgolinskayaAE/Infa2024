{
 "cells": [
  {
   "cell_type": "markdown",
   "id": "dd967361",
   "metadata": {},
   "source": [
    "Поразрядная сортировка"
   ]
  },
  {
   "cell_type": "code",
   "execution_count": 1,
   "id": "3d17bd95",
   "metadata": {},
   "outputs": [
    {
     "name": "stdout",
     "output_type": "stream",
     "text": [
      "[5, 9, 24, 32, 121]\n"
     ]
    }
   ],
   "source": [
    "def get_number_of_digits(number): #определяет сколько разрядов в числе\n",
    "    i = 1\n",
    "    while(number >= 10**i):\n",
    "        i = i+1\n",
    "    return i \n",
    "\n",
    "\n",
    "def get_digit(number, i): #выделяет цифру из общего числа, те добывает разряд\n",
    "    return number % (10**(i+1))//(10**i)\n",
    "\n",
    "\n",
    "def max_number_of_digits(numbers): #определяет макс количество разрядов в ключах сортировки\n",
    "    number_of_digits = 1\n",
    "    for number in numbers:\n",
    "        current_digits = get_number_of_digits(number) #для каждого числа определяю сколько в нем разрядов\n",
    "        if current_digits > number_of_digits:\n",
    "            number_of_digits = current_digits\n",
    "    return number_of_digits\n",
    "\n",
    "\n",
    "def counting_sort(sequince, position): #по аналогии сортировки подсчетом, предварительно указав по чему будем вести сортировку\n",
    "    min_key = min([get_digit(x, position) for x in sequince])\n",
    "    max_key = max([get_digit(x, position) for x in sequince])\n",
    "    n = max_key - min_key + 1\n",
    "    support = [0 for i in range(n)]\n",
    "    for element in sequince:\n",
    "        support[get_digit(element, position)-min_key] += 1\n",
    "    size = len(sequince)\n",
    "    for i in range(n-1, -1, -1):\n",
    "        size -= support[i]\n",
    "        support[i] = size\n",
    "    result = [None for i in range(len(sequince))]\n",
    "    for element in sequince:\n",
    "        result[support[get_digit(element, position)-min_key]] = element\n",
    "        support[get_digit(element, position)-min_key] += 1\n",
    "    return result\n",
    "\n",
    "\n",
    "def radix_sort(sequince): #реализуем поразрядную сортировку\n",
    "    number_of_digits = max_number_of_digits(sequince)\n",
    "    for i in range(number_of_digits):\n",
    "        sequince = counting_sort(sequince, i)\n",
    "    return sequince\n",
    "\n",
    "numbers = [121, 5, 24, 9, 32]\n",
    "\n",
    "result = radix_sort(numbers)\n",
    "\n",
    "print(result)"
   ]
  },
  {
   "cell_type": "code",
   "execution_count": null,
   "id": "02423a78",
   "metadata": {},
   "outputs": [],
   "source": []
  }
 ],
 "metadata": {
  "kernelspec": {
   "display_name": "Python 3 (ipykernel)",
   "language": "python",
   "name": "python3"
  },
  "language_info": {
   "codemirror_mode": {
    "name": "ipython",
    "version": 3
   },
   "file_extension": ".py",
   "mimetype": "text/x-python",
   "name": "python",
   "nbconvert_exporter": "python",
   "pygments_lexer": "ipython3",
   "version": "3.9.13"
  }
 },
 "nbformat": 4,
 "nbformat_minor": 5
}
