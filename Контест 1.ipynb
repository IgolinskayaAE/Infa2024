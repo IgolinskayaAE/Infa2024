{
 "cells": [
  {
   "cell_type": "code",
   "execution_count": 7,
   "id": "9835ad00",
   "metadata": {},
   "outputs": [
    {
     "name": "stdout",
     "output_type": "stream",
     "text": [
      "3 4\n",
      "7\n"
     ]
    }
   ],
   "source": [
    "#В строке последовательно вводятся два числа, которые нужно сложить.\n",
    "x, y = input().split()\n",
    "x, y = int(x), int(y)\n",
    "print(x + y)"
   ]
  },
  {
   "cell_type": "code",
   "execution_count": 14,
   "id": "67d4843a",
   "metadata": {},
   "outputs": [
    {
     "name": "stdout",
     "output_type": "stream",
     "text": [
      "3 4\n",
      "7\n"
     ]
    }
   ],
   "source": [
    "x,y = map(int,input().split())\n",
    "print(x+y)"
   ]
  },
  {
   "cell_type": "code",
   "execution_count": 10,
   "id": "df6ce4e5",
   "metadata": {},
   "outputs": [
    {
     "name": "stdout",
     "output_type": "stream",
     "text": [
      "10\n",
      ">\n",
      "100\n",
      "NO\n"
     ]
    }
   ],
   "source": [
    "#В первой строке число a, во второй знак сравнения, в третьей - число b. Оба числа - натуральные)Если выражение истинно, выведите YES, иначе NO\n",
    "a = int(input())\n",
    "x = input()\n",
    "b = int(input())\n",
    "if x == \"<\":\n",
    "    if a < b:\n",
    "        print(\"YES\")\n",
    "    else:\n",
    "        print(\"NO\")\n",
    "elif x == \">\":\n",
    "    if a > b:\n",
    "        print(\"YES\")\n",
    "    else:\n",
    "        print(\"NO\")\n"
   ]
  },
  {
   "cell_type": "markdown",
   "id": "cea08145",
   "metadata": {},
   "source": [
    "Определите тип треугольника (остроугольный, тупоугольный, прямоугольный) с данными сторонами.\n",
    "Даны три натуральных числа – стороны треугольника. Каждое число вводится с новой строки.\n",
    "Необходимо вывести одно из слов:\n",
    "\n",
    "- right для прямоугольного треугольника,\n",
    "- acute для остроугольного треугольника,\n",
    "- obtuse для тупоугольного треугольника,\n",
    "- impossible, если треугольника с такими сторонами не существует."
   ]
  },
  {
   "cell_type": "code",
   "execution_count": 27,
   "id": "1db5e80b",
   "metadata": {},
   "outputs": [
    {
     "name": "stdout",
     "output_type": "stream",
     "text": [
      "8\n",
      "10\n",
      "6\n",
      "right\n"
     ]
    }
   ],
   "source": [
    "a = int(input())\n",
    "b = int(input())\n",
    "c = int(input())\n",
    "if a + b > c and a + c > b and b + c > a:\n",
    "    if a**2 == b**2 + c**2 or b**2 == a**2 + c**2 or c**2 == a**2 + b**2 :\n",
    "        print(\"right\")\n",
    "    elif a**2 > b**2 + c**2 or b**2 > a**2 + c**2 or c**2 > b**2 + a**2:\n",
    "        print(\"obtuse\")\n",
    "    elif a**2 < b**2 + c**2 or b**2 < a**2 + c**2 or c**2 < b**2 + a**2:\n",
    "        print(\"acute\")\n",
    "else:\n",
    "    print(\"impossible\")\n"
   ]
  },
  {
   "cell_type": "markdown",
   "id": "6fe4c56a",
   "metadata": {},
   "source": [
    "Найдите сумму последовательности дробных чисел (двойной точности).В первой строке целое число N (0 <= N <= 1000) - количество чисел, которые нужно сложить. Затем N строк, в каждой по числу из последовательности.Ответ округляйте до 4 знаков после запятой с помощью функции round(x, 4) "
   ]
  },
  {
   "cell_type": "code",
   "execution_count": 8,
   "id": "abd7c7e8",
   "metadata": {},
   "outputs": [
    {
     "name": "stdout",
     "output_type": "stream",
     "text": [
      "3\n",
      "1\n",
      "2\n",
      "3.958080\n",
      "6.9581\n"
     ]
    }
   ],
   "source": [
    "N = int(input())\n",
    "f = 0 \n",
    "for i in range(N):\n",
    "    f = f + float(input())\n",
    "print(round(f,4))"
   ]
  },
  {
   "cell_type": "code",
   "execution_count": 7,
   "id": "a4a9e2a1",
   "metadata": {},
   "outputs": [
    {
     "name": "stdout",
     "output_type": "stream",
     "text": [
      "3\n",
      "1\n",
      "2\n",
      "5.0348493842\n",
      "8.0348\n"
     ]
    }
   ],
   "source": [
    "N = int(input())\n",
    "r = []\n",
    "for i in range(N):\n",
    "    x = float(input())\n",
    "    r.append(x)\n",
    "b = sum(r)\n",
    "print(round(b, 4))\n",
    "\n",
    "    \n",
    "    "
   ]
  },
  {
   "cell_type": "markdown",
   "id": "5d4708ab",
   "metadata": {},
   "source": [
    "Требуется найти длину удава, выраженную в мартышках, попугаях или слоненках, по выбору пользователя. \n",
    "\"Эффективная длина\" попугая - 10см, мартышки - 90см, слоненка - 3м. Результат округляйте вниз, однако, если при этом получается ноль, выведите 1, чтобы не обижать удава.\n",
    "\n",
    "Формат входных данных:\n",
    "В первой строке натуральное число - длина удава в сантиметрах. Во втрой строке - \"в ком измерять\", \"monkey\", \"parrot\" или \"elephant\".\n",
    "\n",
    "Формат выходных данных:\n",
    "Одно число — результат"
   ]
  },
  {
   "cell_type": "code",
   "execution_count": 31,
   "id": "43a2f122",
   "metadata": {},
   "outputs": [
    {
     "name": "stdout",
     "output_type": "stream",
     "text": [
      "300\n",
      "monkey\n",
      "3\n"
     ]
    }
   ],
   "source": [
    "U = int(input())\n",
    "x = input()\n",
    "if x == \"monkey\":\n",
    "    f = int(U/90)\n",
    "elif x == \"parrot\":\n",
    "    f = int(U/10)\n",
    "elif x == \"elephant\":\n",
    "    f = int(U/300)\n",
    "if f == 0:\n",
    "    print(1)\n",
    "else:\n",
    "    print(f)"
   ]
  },
  {
   "cell_type": "code",
   "execution_count": 19,
   "id": "0b2146d9",
   "metadata": {},
   "outputs": [
    {
     "data": {
      "text/plain": [
       "3"
      ]
     },
     "execution_count": 19,
     "metadata": {},
     "output_type": "execute_result"
    }
   ],
   "source": [
    "int(3.9)"
   ]
  },
  {
   "cell_type": "code",
   "execution_count": null,
   "id": "0c9799f0",
   "metadata": {},
   "outputs": [],
   "source": []
  }
 ],
 "metadata": {
  "kernelspec": {
   "display_name": "Python 3 (ipykernel)",
   "language": "python",
   "name": "python3"
  },
  "language_info": {
   "codemirror_mode": {
    "name": "ipython",
    "version": 3
   },
   "file_extension": ".py",
   "mimetype": "text/x-python",
   "name": "python",
   "nbconvert_exporter": "python",
   "pygments_lexer": "ipython3",
   "version": "3.9.13"
  }
 },
 "nbformat": 4,
 "nbformat_minor": 5
}
